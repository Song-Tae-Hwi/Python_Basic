{
 "cells": [
  {
   "cell_type": "markdown",
   "metadata": {},
   "source": [
    "### 조건문\n",
    "##### if\n",
    "```python  \n",
    "if 조건 논리표현식:  \n",
    "    조건이 참일때 실행할 구문  \n",
    "```"
   ]
  },
  {
   "cell_type": "code",
   "execution_count": 14,
   "metadata": {},
   "outputs": [],
   "source": [
    "number = 1234"
   ]
  },
  {
   "cell_type": "code",
   "execution_count": 10,
   "metadata": {},
   "outputs": [],
   "source": [
    "if (number % 2 == 0):\n",
    "    print('짝수')\n",
    "    # 같은 코드 영역으로 지정하고자 한다면 들여쓰기를 모두 동일하게 지정\n",
    "    print ('종료')\n"
   ]
  },
  {
   "cell_type": "markdown",
   "metadata": {},
   "source": [
    "##### else 문\n",
    "```python  \n",
    "if 조건 논리 표현식:  \n",
    "    조건이 참일때 실행할 구문  \n",
    "else:  \n",
    "    조건이 거짓일때 실행할 구문  \n",
    "```"
   ]
  },
  {
   "cell_type": "code",
   "execution_count": 11,
   "metadata": {},
   "outputs": [
    {
     "name": "stdout",
     "output_type": "stream",
     "text": [
      "홀수\n"
     ]
    }
   ],
   "source": [
    "if (number % 2 == 0):\n",
    "    print('짝수')\n",
    "else:\n",
    "    print('홀수')"
   ]
  },
  {
   "cell_type": "code",
   "execution_count": 13,
   "metadata": {},
   "outputs": [
    {
     "name": "stdout",
     "output_type": "stream",
     "text": [
      "3의 배수입니다.\n"
     ]
    }
   ],
   "source": [
    "if (number % 3 == 0):\n",
    "    print('3의 배수입니다.')\n",
    "else:\n",
    "    if (number % 2 == 0):\n",
    "        print('2의 배수입니다.')\n",
    "    else:\n",
    "        print('2의 배수나 3의 배수가 아닙니다.')"
   ]
  },
  {
   "cell_type": "markdown",
   "metadata": {},
   "source": [
    "##### elif 구문\n",
    "```python  \n",
    "if 첫번째 조건 논리 표현식:  \n",
    "    첫번째 조건이 참일 때 실행할 구문  \n",
    "elif 두번째 조건 논리 표현식:  \n",
    "    두번째 조건이 참일 때 살행할 구문\n",
    "else:\n",
    "    위의 모든 조건이 거짓일 때 실행할 구문  \n",
    "```"
   ]
  },
  {
   "cell_type": "code",
   "execution_count": 15,
   "metadata": {},
   "outputs": [
    {
     "name": "stdout",
     "output_type": "stream",
     "text": [
      "2의 배수입니다\n"
     ]
    }
   ],
   "source": [
    "if (number % 3 == 0):\n",
    "    print('3의 배수 입니다.')\n",
    "elif (number % 2 == 0):\n",
    "    \n",
    "    print('2의 배수입니다')\n",
    "else:\n",
    "    print('2의 배수 혹은 3의 배수가 아닙니다.')"
   ]
  },
  {
   "cell_type": "code",
   "execution_count": 24,
   "metadata": {},
   "outputs": [
    {
     "name": "stdout",
     "output_type": "stream",
     "text": [
      "A의 복역연수 : 5 , B의 복역연수 : 5\n"
     ]
    }
   ],
   "source": [
    "XA = bool(input('A의 선택은 ?'))\n",
    "XB = bool(input('B의 선택은 ?'))\n",
    "\n",
    "(YA, YB) = (0, 0)\n",
    "if (XA and XB):\n",
    "    YA = 5\n",
    "    YB = 5\n",
    "elif (XA and (not XB)):\n",
    "    YA = 10\n",
    "    YB = 0\n",
    "elif ((not XA) and XB):\n",
    "    YA = 0\n",
    "    YB = 10\n",
    "else:\n",
    "    YA = 1\n",
    "    YB = 1\n",
    "print(f'A의 복역연수 : {YA} , B의 복역연수 : {YB}')"
   ]
  },
  {
   "cell_type": "markdown",
   "metadata": {},
   "source": [
    "### 반복문\n",
    "``` python\n",
    "for 변수 in range (반복횟수):\n",
    "    반복할 구문\n",
    "```\n",
    "\n",
    "- range(정수) : 0부터 매개변수로 전달할 정수 -1 까지의 정수 리스트를 반환\n",
    "- range(시작정수, 종료정수) : 시작 정수부터 종료 정수 -1 까지의 정수 리스트를 반환\n",
    "- range(시작점수, 종료정수, 차이정수) : 시작 정수부터 종료 정수 -1 까지의 정수리스를 반환 차이 정수만큼 리스트 반환 "
   ]
  },
  {
   "cell_type": "code",
   "execution_count": 26,
   "metadata": {},
   "outputs": [
    {
     "data": {
      "text/plain": [
       "[0, 1, 2, 3, 4, 5, 6, 7, 8, 9]"
      ]
     },
     "execution_count": 26,
     "metadata": {},
     "output_type": "execute_result"
    }
   ],
   "source": [
    "list(range(10))"
   ]
  },
  {
   "cell_type": "code",
   "execution_count": 27,
   "metadata": {},
   "outputs": [
    {
     "data": {
      "text/plain": [
       "[5, 7, 9]"
      ]
     },
     "execution_count": 27,
     "metadata": {},
     "output_type": "execute_result"
    }
   ],
   "source": [
    "list(range(5,10,2))"
   ]
  },
  {
   "cell_type": "code",
   "execution_count": 29,
   "metadata": {},
   "outputs": [
    {
     "data": {
      "text/plain": [
       "[10, 9, 8, 7, 6, 5, 4, 3, 2]"
      ]
     },
     "execution_count": 29,
     "metadata": {},
     "output_type": "execute_result"
    }
   ],
   "source": [
    "list(range(10, 1, -1))"
   ]
  },
  {
   "cell_type": "code",
   "execution_count": 31,
   "metadata": {},
   "outputs": [
    {
     "name": "stdout",
     "output_type": "stream",
     "text": [
      "0\n",
      "1\n",
      "2\n",
      "3\n",
      "4\n",
      "5\n",
      "6\n",
      "7\n",
      "8\n",
      "9\n"
     ]
    }
   ],
   "source": [
    "for item in range(10):\n",
    "    print(item)"
   ]
  },
  {
   "cell_type": "code",
   "execution_count": 37,
   "metadata": {},
   "outputs": [
    {
     "name": "stdout",
     "output_type": "stream",
     "text": [
      "10\n",
      "9\n",
      "8\n",
      "7\n",
      "6\n",
      "5\n",
      "4\n",
      "3\n",
      "2\n",
      "1\n"
     ]
    }
   ],
   "source": [
    "for item in range(10, 0, -1):\n",
    "    print(item)"
   ]
  },
  {
   "cell_type": "code",
   "execution_count": 38,
   "metadata": {},
   "outputs": [
    {
     "name": "stdout",
     "output_type": "stream",
     "text": [
      "item1 : 0 / item2 : 0\n",
      "item1 : 0 / item2 : 1\n",
      "item1 : 0 / item2 : 2\n",
      "item1 : 0 / item2 : 3\n",
      "item1 : 0 / item2 : 4\n",
      "item1 : 0 / item2 : 5\n",
      "item1 : 0 / item2 : 6\n",
      "item1 : 0 / item2 : 7\n",
      "item1 : 0 / item2 : 8\n",
      "item1 : 0 / item2 : 9\n",
      "item1 : 1 / item2 : 0\n",
      "item1 : 1 / item2 : 1\n",
      "item1 : 1 / item2 : 2\n",
      "item1 : 1 / item2 : 3\n",
      "item1 : 1 / item2 : 4\n",
      "item1 : 1 / item2 : 5\n",
      "item1 : 1 / item2 : 6\n",
      "item1 : 1 / item2 : 7\n",
      "item1 : 1 / item2 : 8\n",
      "item1 : 1 / item2 : 9\n",
      "item1 : 2 / item2 : 0\n",
      "item1 : 2 / item2 : 1\n",
      "item1 : 2 / item2 : 2\n",
      "item1 : 2 / item2 : 3\n",
      "item1 : 2 / item2 : 4\n",
      "item1 : 2 / item2 : 5\n",
      "item1 : 2 / item2 : 6\n",
      "item1 : 2 / item2 : 7\n",
      "item1 : 2 / item2 : 8\n",
      "item1 : 2 / item2 : 9\n",
      "item1 : 3 / item2 : 0\n",
      "item1 : 3 / item2 : 1\n",
      "item1 : 3 / item2 : 2\n",
      "item1 : 3 / item2 : 3\n",
      "item1 : 3 / item2 : 4\n",
      "item1 : 3 / item2 : 5\n",
      "item1 : 3 / item2 : 6\n",
      "item1 : 3 / item2 : 7\n",
      "item1 : 3 / item2 : 8\n",
      "item1 : 3 / item2 : 9\n",
      "item1 : 4 / item2 : 0\n",
      "item1 : 4 / item2 : 1\n",
      "item1 : 4 / item2 : 2\n",
      "item1 : 4 / item2 : 3\n",
      "item1 : 4 / item2 : 4\n",
      "item1 : 4 / item2 : 5\n",
      "item1 : 4 / item2 : 6\n",
      "item1 : 4 / item2 : 7\n",
      "item1 : 4 / item2 : 8\n",
      "item1 : 4 / item2 : 9\n",
      "item1 : 5 / item2 : 0\n",
      "item1 : 5 / item2 : 1\n",
      "item1 : 5 / item2 : 2\n",
      "item1 : 5 / item2 : 3\n",
      "item1 : 5 / item2 : 4\n",
      "item1 : 5 / item2 : 5\n",
      "item1 : 5 / item2 : 6\n",
      "item1 : 5 / item2 : 7\n",
      "item1 : 5 / item2 : 8\n",
      "item1 : 5 / item2 : 9\n",
      "item1 : 6 / item2 : 0\n",
      "item1 : 6 / item2 : 1\n",
      "item1 : 6 / item2 : 2\n",
      "item1 : 6 / item2 : 3\n",
      "item1 : 6 / item2 : 4\n",
      "item1 : 6 / item2 : 5\n",
      "item1 : 6 / item2 : 6\n",
      "item1 : 6 / item2 : 7\n",
      "item1 : 6 / item2 : 8\n",
      "item1 : 6 / item2 : 9\n",
      "item1 : 7 / item2 : 0\n",
      "item1 : 7 / item2 : 1\n",
      "item1 : 7 / item2 : 2\n",
      "item1 : 7 / item2 : 3\n",
      "item1 : 7 / item2 : 4\n",
      "item1 : 7 / item2 : 5\n",
      "item1 : 7 / item2 : 6\n",
      "item1 : 7 / item2 : 7\n",
      "item1 : 7 / item2 : 8\n",
      "item1 : 7 / item2 : 9\n",
      "item1 : 8 / item2 : 0\n",
      "item1 : 8 / item2 : 1\n",
      "item1 : 8 / item2 : 2\n",
      "item1 : 8 / item2 : 3\n",
      "item1 : 8 / item2 : 4\n",
      "item1 : 8 / item2 : 5\n",
      "item1 : 8 / item2 : 6\n",
      "item1 : 8 / item2 : 7\n",
      "item1 : 8 / item2 : 8\n",
      "item1 : 8 / item2 : 9\n",
      "item1 : 9 / item2 : 0\n",
      "item1 : 9 / item2 : 1\n",
      "item1 : 9 / item2 : 2\n",
      "item1 : 9 / item2 : 3\n",
      "item1 : 9 / item2 : 4\n",
      "item1 : 9 / item2 : 5\n",
      "item1 : 9 / item2 : 6\n",
      "item1 : 9 / item2 : 7\n",
      "item1 : 9 / item2 : 8\n",
      "item1 : 9 / item2 : 9\n"
     ]
    }
   ],
   "source": [
    "for item1 in range(10):\n",
    "    for item2 in range(10):\n",
    "        print(f'item1 : {item1} / item2 : {item2}')"
   ]
  },
  {
   "cell_type": "code",
   "execution_count": 46,
   "metadata": {},
   "outputs": [
    {
     "name": "stdout",
     "output_type": "stream",
     "text": [
      "*\n",
      "**\n",
      "***\n",
      "****\n",
      "*****\n",
      "******\n",
      "*******\n",
      "********\n",
      "*********\n",
      "**********\n",
      "*********\n",
      "********\n",
      "*******\n",
      "******\n",
      "*****\n",
      "****\n",
      "***\n",
      "**\n",
      "*\n"
     ]
    }
   ],
   "source": [
    "for count in range (1, 20):\n",
    "    print('*' * count)\n",
    "    if (count == 10):\n",
    "        for count in range(count-1, 0, -1):\n",
    "            print('*' *  count)\n",
    "        break"
   ]
  },
  {
   "cell_type": "code",
   "execution_count": 49,
   "metadata": {},
   "outputs": [
    {
     "name": "stdout",
     "output_type": "stream",
     "text": [
      "*\n",
      "**\n",
      "***\n",
      "****\n",
      "*****\n",
      "******\n",
      "*******\n",
      "********\n",
      "*********\n",
      "**********\n",
      "*********\n",
      "********\n",
      "*******\n",
      "******\n",
      "*****\n",
      "****\n",
      "***\n",
      "**\n",
      "*\n"
     ]
    }
   ],
   "source": [
    "BASE_COUNT = 20\n",
    "START = 1\n",
    "CHARACTER = '*'\n",
    "\n",
    "for count in range (START, BASE_COUNT):\n",
    "  if (count <= (BASE_COUNT/2)):\n",
    "    print(CHARACTER * count)\n",
    "  else:\n",
    "    print(CHARACTER * (BASE_COUNT - count))"
   ]
  }
 ],
 "metadata": {
  "kernelspec": {
   "display_name": "base",
   "language": "python",
   "name": "python3"
  },
  "language_info": {
   "codemirror_mode": {
    "name": "ipython",
    "version": 3
   },
   "file_extension": ".py",
   "mimetype": "text/x-python",
   "name": "python",
   "nbconvert_exporter": "python",
   "pygments_lexer": "ipython3",
   "version": "3.9.12"
  }
 },
 "nbformat": 4,
 "nbformat_minor": 2
}
